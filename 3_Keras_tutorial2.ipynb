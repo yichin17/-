{
  "nbformat": 4,
  "nbformat_minor": 0,
  "metadata": {
    "colab": {
      "provenance": [],
      "gpuType": "T4",
      "authorship_tag": "ABX9TyOF4QhhLyI9EDusWKD2Iwb8",
      "include_colab_link": true
    },
    "kernelspec": {
      "name": "python3",
      "display_name": "Python 3"
    },
    "language_info": {
      "name": "python"
    },
    "accelerator": "GPU"
  },
  "cells": [
    {
      "cell_type": "markdown",
      "metadata": {
        "id": "view-in-github",
        "colab_type": "text"
      },
      "source": [
        "<a href=\"https://colab.research.google.com/github/yichin17/LLM/blob/main/3_Keras_tutorial2.ipynb\" target=\"_parent\"><img src=\"https://colab.research.google.com/assets/colab-badge.svg\" alt=\"Open In Colab\"/></a>"
      ]
    },
    {
      "cell_type": "code",
      "execution_count": 3,
      "metadata": {
        "colab": {
          "base_uri": "https://localhost:8080/"
        },
        "id": "aABjmuVzqnL8",
        "outputId": "5517643f-2176-4621-ddaa-f322feff6d4c"
      },
      "outputs": [
        {
          "output_type": "stream",
          "name": "stdout",
          "text": [
            "Epoch 1/10\n",
            "32/32 [==============================] - 2s 3ms/step - loss: 288.5985 - accuracy: 0.1060\n",
            "Epoch 2/10\n",
            "32/32 [==============================] - 0s 3ms/step - loss: 933.2803 - accuracy: 0.0800\n",
            "Epoch 3/10\n",
            "32/32 [==============================] - 0s 3ms/step - loss: 1796.0228 - accuracy: 0.1310\n",
            "Epoch 4/10\n",
            "32/32 [==============================] - 0s 3ms/step - loss: 2745.0940 - accuracy: 0.1150\n",
            "Epoch 5/10\n",
            "32/32 [==============================] - 0s 3ms/step - loss: 3656.8577 - accuracy: 0.0950\n",
            "Epoch 6/10\n",
            "32/32 [==============================] - 0s 4ms/step - loss: 4679.1479 - accuracy: 0.1090\n",
            "Epoch 7/10\n",
            "32/32 [==============================] - 0s 3ms/step - loss: 5623.0322 - accuracy: 0.1100\n",
            "Epoch 8/10\n",
            "32/32 [==============================] - 0s 3ms/step - loss: 6205.8472 - accuracy: 0.0970\n",
            "Epoch 9/10\n",
            "32/32 [==============================] - 0s 3ms/step - loss: 7768.7930 - accuracy: 0.1170\n",
            "Epoch 10/10\n",
            "32/32 [==============================] - 0s 4ms/step - loss: 8842.0762 - accuracy: 0.1090\n",
            "32/32 [==============================] - 0s 3ms/step - loss: 6528.1948 - accuracy: 0.1410\n",
            "0.14100000262260437\n"
          ]
        }
      ],
      "source": [
        "from tensorflow import keras\n",
        "from keras.models import Sequential\n",
        "from keras.layers import Dense, Dropout\n",
        "\n",
        "model = Sequential()\n",
        "model.add(Dense(512, activation='relu', input_dim=784))\n",
        "model.add(Dropout(0.2))\n",
        "model.add(Dense(10, activation='softmax'))\n",
        "model.compile(optimizer='adam', loss='categorical_crossentropy', metrics=['accuracy'])\n",
        "\n",
        "import numpy as np\n",
        "data = np.random.random((1000, 784))\n",
        "labels = np.random.randint(10, size=(1000, 10))\n",
        "\n",
        "model.fit(data, labels, epochs=10, batch_size=32)\n",
        "\n",
        "score=model.evaluate(data, labels)\n",
        "print(score[1])\n",
        ""
      ]
    }
  ]
}