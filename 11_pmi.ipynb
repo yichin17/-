{
  "nbformat": 4,
  "nbformat_minor": 0,
  "metadata": {
    "colab": {
      "provenance": [],
      "gpuType": "T4",
      "authorship_tag": "ABX9TyNpJePg5PlXCv4ruBgscbcj",
      "include_colab_link": true
    },
    "kernelspec": {
      "name": "python3",
      "display_name": "Python 3"
    },
    "language_info": {
      "name": "python"
    },
    "accelerator": "GPU"
  },
  "cells": [
    {
      "cell_type": "markdown",
      "metadata": {
        "id": "view-in-github",
        "colab_type": "text"
      },
      "source": [
        "<a href=\"https://colab.research.google.com/github/yichin17/LLM/blob/main/11_pmi.ipynb\" target=\"_parent\"><img src=\"https://colab.research.google.com/assets/colab-badge.svg\" alt=\"Open In Colab\"/></a>"
      ]
    },
    {
      "cell_type": "code",
      "execution_count": 1,
      "metadata": {
        "colab": {
          "base_uri": "https://localhost:8080/"
        },
        "id": "bhfDFoOH7R5d",
        "outputId": "4fe89e80-c9ed-448d-e280-1caf438aa709"
      },
      "outputs": [
        {
          "output_type": "stream",
          "name": "stdout",
          "text": [
            "[[0.   0.18 0.07 0.07 0.07 0.3  0.3  0.3  0.3  0.22]\n",
            " [0.18 0.   0.44 0.44 0.44 0.   0.   0.   0.66 0.18]\n",
            " [0.07 0.44 0.   1.03 1.03 0.   0.   0.   0.   0.07]\n",
            " [0.07 0.44 1.03 0.   1.03 0.   0.   0.   0.   0.07]\n",
            " [0.07 0.44 1.03 1.03 0.   0.   0.   0.   0.   0.07]\n",
            " [0.3  0.   0.   0.   0.   0.   1.48 0.78 0.   0.3 ]\n",
            " [0.3  0.   0.   0.   0.   1.48 0.   0.78 0.   0.3 ]\n",
            " [0.3  0.   0.   0.   0.   0.78 0.78 0.   0.78 0.3 ]\n",
            " [0.3  0.66 0.   0.   0.   0.   0.   0.78 0.   0.3 ]\n",
            " [0.22 0.18 0.07 0.07 0.07 0.3  0.3  0.3  0.3  0.  ]]\n"
          ]
        }
      ],
      "source": [
        "import numpy as np\n",
        "\n",
        "M = np.array([[0, 2, 1, 1, 1, 1, 1, 2, 1, 3],\n",
        "              [2, 0, 1, 1, 1, 0, 0, 1, 1, 2],\n",
        "              [1, 1, 0, 1, 1, 0, 0, 0, 0, 1],\n",
        "              [1, 1, 1, 0, 1, 0, 0, 0, 0, 1],\n",
        "              [1, 1, 1, 1, 0, 0, 0, 0, 0, 1],\n",
        "              [1, 0, 0, 0, 0, 0, 1, 1, 0, 1],\n",
        "              [1, 0, 0, 0, 0, 1, 0, 1, 0, 1],\n",
        "              [2, 1, 0, 0, 0, 1, 1, 0, 1, 2],\n",
        "              [1, 1, 0, 0, 0, 0, 0, 1, 0, 1],\n",
        "              [3, 2, 1, 1, 1, 1, 1, 2, 1, 0]])\n",
        "\n",
        "def pmi(M, positive=True):\n",
        "    col_totals = M.sum(axis=0)\n",
        "    row_totals = M.sum(axis=1)\n",
        "    total = col_totals.sum()\n",
        "    expected = np.outer(row_totals, col_totals) / total\n",
        "    M = M / expected\n",
        "    # Silence distracting warnings about log(0):\n",
        "    with np.errstate(divide='ignore'):\n",
        "        M = np.log(M)\n",
        "    M[np.isinf(M)] = 0.0  # log(0) = 0\n",
        "    if positive:\n",
        "        M[M < 0] = 0.0\n",
        "    return M\n",
        "\n",
        "M_pmi = pmi(M)\n",
        "np.set_printoptions(precision=2)\n",
        "print(M_pmi)"
      ]
    },
    {
      "cell_type": "code",
      "source": [],
      "metadata": {
        "id": "rir7qyoF7uyH"
      },
      "execution_count": null,
      "outputs": []
    }
  ]
}